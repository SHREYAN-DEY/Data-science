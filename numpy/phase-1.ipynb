{
 "cells": [
  {
   "cell_type": "markdown",
   "id": "8b9d8cd8",
   "metadata": {},
   "source": [
    "## Numpy array and basics\n",
    "---\n",
    "###learn about numpy self-study\n",
    "\n",
    "- First of all we have to initialize virtual environment\n",
    "- Then to install numpy we have to run \"pip install numpy\" in terminal\n",
    "\n",
    "- Now we are importing numpy "
   ]
  },
  {
   "cell_type": "code",
   "execution_count": 1,
   "id": "4de66ae1",
   "metadata": {},
   "outputs": [],
   "source": [
    "import numpy as np\n",
    "import time"
   ]
  },
  {
   "cell_type": "markdown",
   "id": "c0de8a6e",
   "metadata": {},
   "source": [
    "### Creating array(vector) with 'numpy'"
   ]
  },
  {
   "cell_type": "code",
   "execution_count": 3,
   "id": "eac9f648",
   "metadata": {},
   "outputs": [
    {
     "name": "stdout",
     "output_type": "stream",
     "text": [
      "1d array :  [1 2 3 4 5]\n",
      "2d array :  [[1 2 3]\n",
      " [4 5 6]]\n"
     ]
    }
   ],
   "source": [
    "arr_1d = np.array([1,2,3,4,5])\n",
    "print(\"1d array : \", arr_1d)\n",
    "\n",
    "arr_2d = np.array([[1, 2, 3], [4, 5, 6]])\n",
    "print(\"2d array : \", arr_2d)"
   ]
  },
  {
   "cell_type": "markdown",
   "id": "6d158c11",
   "metadata": {},
   "source": [
    "### list vs numpy array\n",
    "numpy array is superior to python list "
   ]
  },
  {
   "cell_type": "code",
   "execution_count": null,
   "id": "c47847da",
   "metadata": {},
   "outputs": [
    {
     "name": "stdout",
     "output_type": "stream",
     "text": [
      "Python list multiplication  [1, 2, 3, 1, 2, 3]\n",
      "<class 'list'>\n",
      "Python array multiplication  [2 4 6]\n",
      "<class 'numpy.ndarray'>\n"
     ]
    }
   ],
   "source": [
    "py_list = [1, 2, 3]\n",
    "print(\"Python list multiplication \", py_list * 2)\n",
    "print(type(py_list))\n",
    "\n",
    "np_array = np.array([1,2,3])\n",
    "print(\"Python array multiplication \", np_array * 2)\n",
    "print(type(np_array))"
   ]
  },
  {
   "cell_type": "markdown",
   "id": "53946c59",
   "metadata": {},
   "source": [
    "### Regular python operation time VS numpy operation time"
   ]
  },
  {
   "cell_type": "code",
   "execution_count": 7,
   "id": "feccf928",
   "metadata": {},
   "outputs": [
    {
     "name": "stdout",
     "output_type": "stream",
     "text": [
      "regular list operation time = 22.857160568237305\n",
      "numpy list operation time = 0.8022191524505615\n"
     ]
    }
   ],
   "source": [
    "startTime = time.time()\n",
    "\n",
    "py_list = [i*2 for i in range(100000000)]\n",
    "\n",
    "endTime = time.time()\n",
    "print(f\"regular list operation time = {endTime - startTime}\")\n",
    "\n",
    "\n",
    "startTime = time.time()\n",
    "np_array = np.arange(100000000) * 2\n",
    "endTime = time.time()\n",
    "print(f\"numpy list operation time = {endTime - startTime}\")"
   ]
  }
 ],
 "metadata": {
  "kernelspec": {
   "display_name": ".venv",
   "language": "python",
   "name": "python3"
  },
  "language_info": {
   "codemirror_mode": {
    "name": "ipython",
    "version": 3
   },
   "file_extension": ".py",
   "mimetype": "text/x-python",
   "name": "python",
   "nbconvert_exporter": "python",
   "pygments_lexer": "ipython3",
   "version": "3.13.5"
  }
 },
 "nbformat": 4,
 "nbformat_minor": 5
}
