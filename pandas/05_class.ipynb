{
 "cells": [
  {
   "cell_type": "markdown",
   "id": "b9299615",
   "metadata": {},
   "source": [
    "### Filtering of data in pandas -\n",
    "---\n",
    "Filtering - Keeping the rows that match a condition"
   ]
  },
  {
   "cell_type": "code",
   "execution_count": 4,
   "id": "bf054c76",
   "metadata": {},
   "outputs": [],
   "source": [
    "import pandas as pd\n",
    "df = pd.read_csv(\"../data/pokemon.csv\")"
   ]
  },
  {
   "cell_type": "code",
   "execution_count": 5,
   "id": "228e86fe",
   "metadata": {},
   "outputs": [
    {
     "name": "stdout",
     "output_type": "stream",
     "text": [
      "Tall pokemon greater than 2m :\n",
      "       No        Name    Type1    Type2  Height  Weight  Legendary\n",
      "2      3    Venusaur    Grass   Poison     2.0   100.0          0\n",
      "22    23       Ekans   Poison      NaN     2.0     6.9          0\n",
      "23    24       Arbok   Poison      NaN     3.5    65.0          0\n",
      "94    95        Onix     Rock   Ground     8.8   210.0          0\n",
      "102  103   Exeggutor    Grass  Psychic     2.0   120.0          0\n",
      "114  115  Kangaskhan   Normal      NaN     2.2    80.0          0\n",
      "129  130    Gyarados    Water   Flying     6.5   235.0          0\n",
      "130  131      Lapras    Water      Ice     2.5   220.0          0\n",
      "142  143     Snorlax   Normal      NaN     2.1   460.0          0\n",
      "145  146     Moltres     Fire   Flying     2.0    60.0          1\n",
      "147  148   Dragonair   Dragon      NaN     4.0    16.5          0\n",
      "148  149   Dragonite   Dragon   Flying     2.2   210.0          0\n",
      "149  150      Mewtwo  Psychic      NaN     2.0   122.0          1\n"
     ]
    }
   ],
   "source": [
    "tallPokemon = df[df[\"Height\"] >= 2]\n",
    "print(\"Tall pokemon greater than 2m :\\n\", tallPokemon)"
   ]
  },
  {
   "cell_type": "code",
   "execution_count": 6,
   "id": "1399ab1e",
   "metadata": {},
   "outputs": [
    {
     "name": "stdout",
     "output_type": "stream",
     "text": [
      "Heavy pokemon weight greater than 100kg :\n",
      "       No       Name     Type1    Type2  Height  Weight  Legendary\n",
      "2      3   Venusaur     Grass   Poison     2.0   100.0          0\n",
      "58    59   Arcanine      Fire      NaN     1.9   155.0          0\n",
      "67    68    Machamp  Fighting      NaN     1.6   130.0          0\n",
      "74    75   Graveler      Rock   Ground     1.0   105.0          0\n",
      "75    76      Golem      Rock   Ground     1.4   300.0          0\n",
      "86    87    Dewgong     Water      Ice     1.7   120.0          0\n",
      "90    91   Cloyster     Water      Ice     1.5   132.5          0\n",
      "94    95       Onix      Rock   Ground     8.8   210.0          0\n",
      "102  103  Exeggutor     Grass  Psychic     2.0   120.0          0\n",
      "110  111    Rhyhorn    Ground     Rock     1.0   115.0          0\n",
      "111  112     Rhydon    Ground     Rock     1.9   120.0          0\n",
      "129  130   Gyarados     Water   Flying     6.5   235.0          0\n",
      "130  131     Lapras     Water      Ice     2.5   220.0          0\n",
      "142  143    Snorlax    Normal      NaN     2.1   460.0          0\n",
      "148  149  Dragonite    Dragon   Flying     2.2   210.0          0\n",
      "149  150     Mewtwo   Psychic      NaN     2.0   122.0          1\n"
     ]
    }
   ],
   "source": [
    "heavyPokemon = df[df[\"Weight\"] >= 100]\n",
    "print(\"Heavy pokemon weight greater than 100kg :\\n\", heavyPokemon)"
   ]
  },
  {
   "cell_type": "code",
   "execution_count": 7,
   "id": "bb39ebe8",
   "metadata": {},
   "outputs": [
    {
     "name": "stdout",
     "output_type": "stream",
     "text": [
      "      No        Name  Type1     Type2  Height  Weight  Legendary\n",
      "6      7    Squirtle  Water       NaN     0.5     9.0          0\n",
      "7      8   Wartortle  Water       NaN     1.0    22.5          0\n",
      "8      9   Blastoise  Water       NaN     1.6    85.5          0\n",
      "53    54     Psyduck  Water       NaN     0.8    19.6          0\n",
      "54    55     Golduck  Water       NaN     1.7    76.6          0\n",
      "59    60     Poliwag  Water       NaN     0.6    12.4          0\n",
      "60    61   Poliwhirl  Water       NaN     1.0    20.0          0\n",
      "61    62   Poliwrath  Water  Fighting     1.3    54.0          0\n",
      "71    72   Tentacool  Water    Poison     0.9    45.5          0\n",
      "72    73  Tentacruel  Water    Poison     1.6    55.0          0\n",
      "78    79    Slowpoke  Water   Psychic     1.2    36.0          0\n",
      "79    80     Slowbro  Water   Psychic     1.6    78.5          0\n",
      "85    86        Seel  Water       NaN     1.1    90.0          0\n",
      "86    87     Dewgong  Water       Ice     1.7   120.0          0\n",
      "89    90    Shellder  Water       NaN     0.3     4.0          0\n",
      "90    91    Cloyster  Water       Ice     1.5   132.5          0\n",
      "97    98      Krabby  Water       NaN     0.4     6.5          0\n",
      "98    99     Kingler  Water       NaN     1.3    60.0          0\n",
      "115  116      Horsea  Water       NaN     0.4     8.0          0\n",
      "116  117      Seadra  Water       NaN     1.2    25.0          0\n",
      "117  118     Goldeen  Water       NaN     0.6    15.0          0\n",
      "118  119     Seaking  Water       NaN     1.3    39.0          0\n",
      "119  120      Staryu  Water       NaN     0.8    34.5          0\n",
      "120  121     Starmie  Water   Psychic     1.1    80.0          0\n",
      "128  129    Magikarp  Water       NaN     0.9    10.0          0\n",
      "129  130    Gyarados  Water    Flying     6.5   235.0          0\n",
      "130  131      Lapras  Water       Ice     2.5   220.0          0\n",
      "133  134    Vaporeon  Water       NaN     1.0    29.0          0\n",
      "137  138     Omanyte   Rock     Water     0.4     7.5          0\n",
      "138  139     Omastar   Rock     Water     1.0    35.0          0\n",
      "139  140      Kabuto   Rock     Water     0.5    11.5          0\n",
      "140  141    Kabutops   Rock     Water     1.3    40.5          0\n"
     ]
    }
   ],
   "source": [
    "waterPokemon = df[(df[\"Type1\"] == \"Water\") |\n",
    "                  (df[\"Type2\"] == \"Water\")]\n",
    "print(waterPokemon)"
   ]
  }
 ],
 "metadata": {
  "kernelspec": {
   "display_name": "Python 3",
   "language": "python",
   "name": "python3"
  },
  "language_info": {
   "codemirror_mode": {
    "name": "ipython",
    "version": 3
   },
   "file_extension": ".py",
   "mimetype": "text/x-python",
   "name": "python",
   "nbconvert_exporter": "python",
   "pygments_lexer": "ipython3",
   "version": "3.13.7"
  }
 },
 "nbformat": 4,
 "nbformat_minor": 5
}
