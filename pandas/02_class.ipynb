{
 "cells": [
  {
   "cell_type": "markdown",
   "id": "e59921a9",
   "metadata": {},
   "source": [
    "### DataFrames -\n",
    "---\n",
    "DataFrames - A tabular data structure with  rows and columns (2-D)\n",
    "             Similar to an excel spreadsheet"
   ]
  }
 ],
 "metadata": {
  "language_info": {
   "name": "python"
  }
 },
 "nbformat": 4,
 "nbformat_minor": 5
}
