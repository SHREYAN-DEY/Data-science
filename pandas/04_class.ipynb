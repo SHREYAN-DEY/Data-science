{
 "cells": [
  {
   "cell_type": "markdown",
   "id": "000bd7f6",
   "metadata": {},
   "source": [
    "### Selection -\n",
    "---"
   ]
  },
  {
   "cell_type": "code",
   "execution_count": 1,
   "id": "535a2a4c",
   "metadata": {},
   "outputs": [],
   "source": [
    "import pandas as pd"
   ]
  },
  {
   "cell_type": "code",
   "execution_count": 25,
   "id": "d7c04d0a",
   "metadata": {},
   "outputs": [],
   "source": [
    "# df = pd.read_csv(\"../data/pokemon.csv\")\n",
    "df = pd.read_csv(\"../data/pokemon.csv\", index_col=\"Name\")\n",
    "# print(df)"
   ]
  },
  {
   "cell_type": "code",
   "execution_count": 26,
   "id": "a36d3f25",
   "metadata": {},
   "outputs": [
    {
     "name": "stdout",
     "output_type": "stream",
     "text": [
      "            Height  Weight\n",
      "Name                      \n",
      "Bulbasaur      0.7     6.9\n",
      "Ivysaur        1.0    13.0\n",
      "Venusaur       2.0   100.0\n",
      "Charmander     0.6     8.5\n",
      "Charmeleon     1.1    19.0\n",
      "...            ...     ...\n",
      "Moltres        2.0    60.0\n",
      "Dratini        1.8     3.3\n",
      "Dragonair      4.0    16.5\n",
      "Dragonite      2.2   210.0\n",
      "Mewtwo         2.0   122.0\n",
      "\n",
      "[150 rows x 2 columns]\n"
     ]
    }
   ],
   "source": [
    "# Selection by column\n",
    "\n",
    "# print(df[\"Name\"].to_string())\n",
    "# print(df[\"Height\"])\n",
    "# print(df[\"Weight\"])\n",
    "print(df[[\"Height\", \"Weight\"]])"
   ]
  },
  {
   "cell_type": "code",
   "execution_count": null,
   "id": "229cdcf0",
   "metadata": {},
   "outputs": [
    {
     "name": "stdout",
     "output_type": "stream",
     "text": [
      "            No  Type1   Type2\n",
      "Name                         \n",
      "Bulbasaur    1  Grass  Poison\n",
      "Ivysaur      2  Grass  Poison\n",
      "Venusaur     3  Grass  Poison\n",
      "Charmander   4   Fire     NaN\n",
      "Charmeleon   5   Fire     NaN\n",
      "Charizard    6   Fire  Flying\n",
      "Squirtle     7  Water     NaN\n",
      "Wartortle    8  Water     NaN\n",
      "Blastoise    9  Water     NaN\n",
      "Caterpie    10    Bug     NaN\n",
      "Metapod     11    Bug     NaN\n"
     ]
    }
   ],
   "source": [
    "# Selection by row\n",
    "\n",
    "# print(df.loc[0])\n",
    "# print(df.loc[\"Bulbasaur\"])\n",
    "# print(df.loc[\"Pikachu\", [\"Height\", \"Weight\"]])\n",
    "# print(df.loc[\"Pikachu\":\"Sandslash\", [\"Height\", \"Weight\"]])\n",
    "print(df.iloc[0:11, 0:3])"
   ]
  },
  {
   "cell_type": "code",
   "execution_count": 42,
   "id": "32ee140b",
   "metadata": {},
   "outputs": [
    {
     "name": "stdout",
     "output_type": "stream",
     "text": [
      "Dd not found\n"
     ]
    }
   ],
   "source": [
    "pokemon = input(\"Enter a pokemon name : \")\n",
    "pokemon = pokemon.capitalize()\n",
    "\n",
    "try:\n",
    "    print(df.loc[pokemon])\n",
    "except KeyError:\n",
    "    print(f\"{pokemon} not found\")"
   ]
  }
 ],
 "metadata": {
  "kernelspec": {
   "display_name": "Python 3",
   "language": "python",
   "name": "python3"
  },
  "language_info": {
   "codemirror_mode": {
    "name": "ipython",
    "version": 3
   },
   "file_extension": ".py",
   "mimetype": "text/x-python",
   "name": "python",
   "nbconvert_exporter": "python",
   "pygments_lexer": "ipython3",
   "version": "3.13.7"
  }
 },
 "nbformat": 4,
 "nbformat_minor": 5
}
