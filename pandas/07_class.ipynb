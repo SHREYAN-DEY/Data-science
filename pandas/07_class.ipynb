{
 "cells": [
  {
   "cell_type": "markdown",
   "id": "d3870b68",
   "metadata": {},
   "source": [
    "## Data cleaning -\n",
    "---\n",
    "Data cleaning - The process of fixing / removing incomplete, incorrect or\n",
    "                irrelevant data.\n",
    "                ~75% of work done with pandas is data cleaning"
   ]
  },
  {
   "cell_type": "code",
   "execution_count": 64,
   "id": "1a0d9dee",
   "metadata": {},
   "outputs": [],
   "source": [
    "import pandas as pd\n",
    "df = pd.read_csv(\"../data/pokemon.csv\")\n",
    "# print(df)"
   ]
  },
  {
   "cell_type": "code",
   "execution_count": 65,
   "id": "a60ecb33",
   "metadata": {},
   "outputs": [
    {
     "name": "stdout",
     "output_type": "stream",
     "text": [
      "           Name    Type1   Type2  Height  Weight  Legendary\n",
      "0     Bulbasaur    Grass  Poison     0.7     6.9          0\n",
      "1       Ivysaur    Grass  Poison     1.0    13.0          0\n",
      "2      Venusaur    Grass  Poison     2.0   100.0          0\n",
      "3    Charmander     Fire     NaN     0.6     8.5          0\n",
      "4    Charmeleon     Fire     NaN     1.1    19.0          0\n",
      "..          ...      ...     ...     ...     ...        ...\n",
      "145     Moltres     Fire  Flying     2.0    60.0          1\n",
      "146     Dratini   Dragon     NaN     1.8     3.3          0\n",
      "147   Dragonair   Dragon     NaN     4.0    16.5          0\n",
      "148   Dragonite   Dragon  Flying     2.2   210.0          0\n",
      "149      Mewtwo  Psychic     NaN     2.0   122.0          1\n",
      "\n",
      "[150 rows x 6 columns]\n"
     ]
    }
   ],
   "source": [
    "# 1. drop irrelevant columns\n",
    "# we will use drop() fn for that and it returns a dataframe\n",
    "df = df.drop(columns=[\"No\"])\n",
    "# df = df.drop(columns=[\"Legendary\", \"No\"])\n",
    "print(df)"
   ]
  },
  {
   "cell_type": "code",
   "execution_count": 66,
   "id": "cfe57a08",
   "metadata": {},
   "outputs": [
    {
     "name": "stdout",
     "output_type": "stream",
     "text": [
      "           Name     Type1     Type2  Height  Weight  Legendary\n",
      "0     Bulbasaur     Grass    Poison     0.7     6.9          0\n",
      "1       Ivysaur     Grass    Poison     1.0    13.0          0\n",
      "2      Venusaur     Grass    Poison     2.0   100.0          0\n",
      "3    Charmander      Fire       NaN     0.6     8.5          0\n",
      "4    Charmeleon      Fire       NaN     1.1    19.0          0\n",
      "5     Charizard      Fire    Flying     1.7    90.5          0\n",
      "6      Squirtle     Water       NaN     0.5     9.0          0\n",
      "7     Wartortle     Water       NaN     1.0    22.5          0\n",
      "8     Blastoise     Water       NaN     1.6    85.5          0\n",
      "9      Caterpie       Bug       NaN     0.3     2.9          0\n",
      "10      Metapod       Bug       NaN     0.7     9.9          0\n",
      "11   Butterfree       Bug    Flying     1.1    32.0          0\n",
      "12       Weedle       Bug    Poison     0.3     3.2          0\n",
      "13       Kakuna       Bug    Poison     0.6    10.0          0\n",
      "14     Beedrill       Bug    Poison     1.0    29.5          0\n",
      "15       Pidgey    Normal    Flying     0.3     1.8          0\n",
      "16    Pidgeotto    Normal    Flying     1.1    30.0          0\n",
      "17      Pidgeot    Normal    Flying     1.5    39.5          0\n",
      "18      Rattata    Normal       NaN     0.3     3.5          0\n",
      "19     Raticate    Normal       NaN     0.7    18.5          0\n",
      "20      Spearow    Normal    Flying     0.3     2.0          0\n",
      "21       Fearow    Normal    Flying     1.2    38.0          0\n",
      "22        Ekans    Poison       NaN     2.0     6.9          0\n",
      "23        Arbok    Poison       NaN     3.5    65.0          0\n",
      "24      Pikachu  Electric       NaN     0.4     6.0          0\n",
      "25       Raichu  Electric       NaN     0.8    30.0          0\n",
      "26    Sandshrew    Ground       NaN     0.6    12.0          0\n",
      "27    Sandslash    Ground       NaN     1.0    29.5          0\n",
      "28     Nidoran♀    Poison       NaN     0.4     7.0          0\n",
      "29     Nidorina    Poison       NaN     0.8    20.0          0\n",
      "30    Nidoqueen    Poison    Ground     1.3    60.0          0\n",
      "31     Nidoran♂    Poison       NaN     0.5     9.0          0\n",
      "32     Nidorino    Poison       NaN     0.9    19.5          0\n",
      "33     Nidoking    Poison    Ground     1.4    62.0          0\n",
      "34     Clefairy     Fairy       NaN     0.6     7.5          0\n",
      "35     Clefable     Fairy       NaN     1.3    40.0          0\n",
      "36       Vulpix      Fire       NaN     0.6     9.9          0\n",
      "37    Ninetales      Fire       NaN     1.1    19.9          0\n",
      "38   Jigglypuff    Normal     Fairy     0.5     5.5          0\n",
      "39   Wigglytuff    Normal     Fairy     1.0    12.0          0\n",
      "40        Zubat    Poison    Flying     0.8     7.5          0\n",
      "41       Golbat    Poison    Flying     1.6    55.0          0\n",
      "42       Oddish     Grass    Poison     0.5     5.4          0\n",
      "43        Gloom     Grass    Poison     0.8     8.6          0\n",
      "44    Vileplume     Grass    Poison     1.2    18.6          0\n",
      "45        Paras       Bug     Grass     0.3     5.4          0\n",
      "46     Parasect       Bug     Grass     1.0    29.5          0\n",
      "47      Venonat       Bug    Poison     1.0    30.0          0\n",
      "48     Venomoth       Bug    Poison     1.5    12.5          0\n",
      "49      Diglett    Ground       NaN     0.2     0.8          0\n",
      "50      Dugtrio    Ground       NaN     0.7    33.3          0\n",
      "51       Meowth    Normal       NaN     0.4     4.2          0\n",
      "52      Persian    Normal       NaN     1.0    32.0          0\n",
      "53      Psyduck     Water       NaN     0.8    19.6          0\n",
      "54      Golduck     Water       NaN     1.7    76.6          0\n",
      "55       Mankey  Fighting       NaN     0.5    28.0          0\n",
      "56     Primeape  Fighting       NaN     1.0    32.0          0\n",
      "57    Growlithe      Fire       NaN     0.7    19.0          0\n",
      "58     Arcanine      Fire       NaN     1.9   155.0          0\n",
      "59      Poliwag     Water       NaN     0.6    12.4          0\n",
      "60    Poliwhirl     Water       NaN     1.0    20.0          0\n",
      "61    Poliwrath     Water  Fighting     1.3    54.0          0\n",
      "62         Abra   Psychic       NaN     0.9    19.5          0\n",
      "63      Kadabra   Psychic       NaN     1.3    56.5          0\n",
      "64     Alakazam   Psychic       NaN     1.5    48.0          0\n",
      "65       Machop  Fighting       NaN     0.8    19.5          0\n",
      "66      Machoke  Fighting       NaN     1.5    70.5          0\n",
      "67      Machamp  Fighting       NaN     1.6   130.0          0\n",
      "68   Bellsprout     Grass    Poison     0.7     4.0          0\n",
      "69   Weepinbell     Grass    Poison     1.0     6.4          0\n",
      "70   Victreebel     Grass    Poison     1.7    15.5          0\n",
      "71    Tentacool     Water    Poison     0.9    45.5          0\n",
      "72   Tentacruel     Water    Poison     1.6    55.0          0\n",
      "73      Geodude      Rock    Ground     0.4    20.0          0\n",
      "74     Graveler      Rock    Ground     1.0   105.0          0\n",
      "75        Golem      Rock    Ground     1.4   300.0          0\n",
      "76       Ponyta      Fire       NaN     1.0    30.0          0\n",
      "77     Rapidash      Fire       NaN     1.7    95.0          0\n",
      "78     Slowpoke     Water   Psychic     1.2    36.0          0\n",
      "79      Slowbro     Water   Psychic     1.6    78.5          0\n",
      "80    Magnemite  Electric     Steel     0.3     6.0          0\n",
      "81     Magneton  Electric     Steel     1.0    60.0          0\n",
      "82   Farfetch'd    Normal    Flying     0.8    15.0          0\n",
      "83        Doduo    Normal    Flying     1.4    39.2          0\n",
      "84       Dodrio    Normal    Flying     1.8    85.2          0\n",
      "85         Seel     Water       NaN     1.1    90.0          0\n",
      "86      Dewgong     Water       Ice     1.7   120.0          0\n",
      "87       Grimer    Poison       NaN     0.9    30.0          0\n",
      "88          Muk    Poison       NaN     1.2    30.0          0\n",
      "89     Shellder     Water       NaN     0.3     4.0          0\n",
      "90     Cloyster     Water       Ice     1.5   132.5          0\n",
      "91       Gastly     Ghost    Poison     1.3     0.1          0\n",
      "92      Haunter     Ghost    Poison     1.6     0.1          0\n",
      "93       Gengar     Ghost    Poison     1.5    40.5          0\n",
      "94         Onix      Rock    Ground     8.8   210.0          0\n",
      "95      Drowzee   Psychic       NaN     1.0    32.4          0\n",
      "96        Hypno   Psychic       NaN     1.6    75.6          0\n",
      "97       Krabby     Water       NaN     0.4     6.5          0\n",
      "98      Kingler     Water       NaN     1.3    60.0          0\n",
      "99      Voltorb  Electric       NaN     0.5    10.4          0\n",
      "100   Electrode  Electric       NaN     1.2    66.6          0\n",
      "101   Exeggcute     Grass   Psychic     0.4     2.5          0\n",
      "102   Exeggutor     Grass   Psychic     2.0   120.0          0\n",
      "103      Cubone    Ground       NaN     0.4     6.5          0\n",
      "104     Marowak    Ground       NaN     1.0    45.0          0\n",
      "105   Hitmonlee  Fighting       NaN     1.5    49.8          0\n",
      "106  Hitmonchan  Fighting       NaN     1.4    50.2          0\n",
      "107   Lickitung    Normal       NaN     1.2    65.5          0\n",
      "108     Koffing    Poison       NaN     0.6     1.0          0\n",
      "109     Weezing    Poison       NaN     1.2     9.5          0\n",
      "110     Rhyhorn    Ground      Rock     1.0   115.0          0\n",
      "111      Rhydon    Ground      Rock     1.9   120.0          0\n",
      "112     Chansey    Normal       NaN     1.1    34.6          0\n",
      "113     Tangela     Grass       NaN     1.0    35.0          0\n",
      "114  Kangaskhan    Normal       NaN     2.2    80.0          0\n",
      "115      Horsea     Water       NaN     0.4     8.0          0\n",
      "116      Seadra     Water       NaN     1.2    25.0          0\n",
      "117     Goldeen     Water       NaN     0.6    15.0          0\n",
      "118     Seaking     Water       NaN     1.3    39.0          0\n",
      "119      Staryu     Water       NaN     0.8    34.5          0\n",
      "120     Starmie     Water   Psychic     1.1    80.0          0\n",
      "121    Mr. Mime   Psychic     Fairy     1.3    54.5          0\n",
      "122     Scyther       Bug    Flying     1.5    56.0          0\n",
      "123        Jynx       Ice   Psychic     1.4    40.6          0\n",
      "124  Electabuzz  Electric       NaN     1.1    30.0          0\n",
      "125      Magmar      Fire       NaN     1.3    44.5          0\n",
      "126      Pinsir       Bug       NaN     1.5    55.0          0\n",
      "127      Tauros    Normal       NaN     1.4    88.4          0\n",
      "128    Magikarp     Water       NaN     0.9    10.0          0\n",
      "129    Gyarados     Water    Flying     6.5   235.0          0\n",
      "130      Lapras     Water       Ice     2.5   220.0          0\n",
      "131       Ditto    Normal       NaN     0.3     4.0          0\n",
      "132       Eevee    Normal       NaN     0.3     6.5          0\n",
      "133    Vaporeon     Water       NaN     1.0    29.0          0\n",
      "134     Jolteon  Electric       NaN     0.8    24.5          0\n",
      "135     Flareon      Fire       NaN     0.9    25.0          0\n",
      "136     Porygon    Normal       NaN     0.8    36.5          0\n",
      "137     Omanyte      Rock     Water     0.4     7.5          0\n",
      "138     Omastar      Rock     Water     1.0    35.0          0\n",
      "139      Kabuto      Rock     Water     0.5    11.5          0\n",
      "140    Kabutops      Rock     Water     1.3    40.5          0\n",
      "141  Aerodactyl      Rock    Flying     1.8    59.0          0\n",
      "142     Snorlax    Normal       NaN     2.1   460.0          0\n",
      "143    Articuno       Ice    Flying     1.7    55.4          1\n",
      "144      Zapdos  Electric    Flying     1.6    52.6          1\n",
      "145     Moltres      Fire    Flying     2.0    60.0          1\n",
      "146     Dratini    Dragon       NaN     1.8     3.3          0\n",
      "147   Dragonair    Dragon       NaN     4.0    16.5          0\n",
      "148   Dragonite    Dragon    Flying     2.2   210.0          0\n",
      "149      Mewtwo   Psychic       NaN     2.0   122.0          1\n"
     ]
    }
   ],
   "source": [
    "# 2. Handle missing data\n",
    "# if there is no second type we will drop that pokemon\n",
    "# dropna = drop not available\n",
    "# df = df.dropna(subset=[\"Type2\"])\n",
    "print(df.to_string())"
   ]
  },
  {
   "cell_type": "code",
   "execution_count": 67,
   "id": "1e39b94e",
   "metadata": {},
   "outputs": [
    {
     "name": "stdout",
     "output_type": "stream",
     "text": [
      "           Name    Type1   Type2  Height  Weight  Legendary\n",
      "0     Bulbasaur    Grass  Poison     0.7     6.9          0\n",
      "1       Ivysaur    Grass  Poison     1.0    13.0          0\n",
      "2      Venusaur    Grass  Poison     2.0   100.0          0\n",
      "3    Charmander     Fire    None     0.6     8.5          0\n",
      "4    Charmeleon     Fire    None     1.1    19.0          0\n",
      "..          ...      ...     ...     ...     ...        ...\n",
      "145     Moltres     Fire  Flying     2.0    60.0          1\n",
      "146     Dratini   Dragon    None     1.8     3.3          0\n",
      "147   Dragonair   Dragon    None     4.0    16.5          0\n",
      "148   Dragonite   Dragon  Flying     2.2   210.0          0\n",
      "149      Mewtwo  Psychic    None     2.0   122.0          1\n",
      "\n",
      "[150 rows x 6 columns]\n"
     ]
    }
   ],
   "source": [
    "# filling the not available places with value\n",
    "df = df.fillna({\"Type2\" : \"None\"})\n",
    "print(df)"
   ]
  },
  {
   "cell_type": "code",
   "execution_count": 68,
   "id": "47b8b277",
   "metadata": {},
   "outputs": [
    {
     "name": "stdout",
     "output_type": "stream",
     "text": [
      "           Name    Type1   Type2  Height  Weight  Legendary\n",
      "0     Bulbasaur    Grass  Poison     0.7     6.9          0\n",
      "1       Ivysaur    Grass  Poison     1.0    13.0          0\n",
      "2      Venusaur    Grass  Poison     2.0   100.0          0\n",
      "3    Charmander     Fire    None     0.6     8.5          0\n",
      "4    Charmeleon     Fire    None     1.1    19.0          0\n",
      "..          ...      ...     ...     ...     ...        ...\n",
      "145     Moltres     Fire  Flying     2.0    60.0          1\n",
      "146     Dratini   Dragon    None     1.8     3.3          0\n",
      "147   Dragonair   Dragon    None     4.0    16.5          0\n",
      "148   Dragonite   Dragon  Flying     2.2   210.0          0\n",
      "149      Mewtwo  Psychic    None     2.0   122.0          1\n",
      "\n",
      "[150 rows x 6 columns]\n"
     ]
    }
   ],
   "source": [
    "# 3. Fix inconsistent values\n",
    "# df[\"Type1\"] = df[\"Type1\"].replace({\"Grass\" : \"GRASS\",\n",
    "#                                    \"Fire\" : \"FIRE\"})\n",
    "print(df)"
   ]
  },
  {
   "cell_type": "code",
   "execution_count": 69,
   "id": "35f760b1",
   "metadata": {},
   "outputs": [
    {
     "name": "stdout",
     "output_type": "stream",
     "text": [
      "           Name    Type1   Type2  Height  Weight  Legendary\n",
      "0     Bulbasaur    Grass  Poison     0.7     6.9          0\n",
      "1       Ivysaur    Grass  Poison     1.0    13.0          0\n",
      "2      Venusaur    Grass  Poison     2.0   100.0          0\n",
      "3    Charmander     Fire    None     0.6     8.5          0\n",
      "4    Charmeleon     Fire    None     1.1    19.0          0\n",
      "..          ...      ...     ...     ...     ...        ...\n",
      "145     Moltres     Fire  Flying     2.0    60.0          1\n",
      "146     Dratini   Dragon    None     1.8     3.3          0\n",
      "147   Dragonair   Dragon    None     4.0    16.5          0\n",
      "148   Dragonite   Dragon  Flying     2.2   210.0          0\n",
      "149      Mewtwo  Psychic    None     2.0   122.0          1\n",
      "\n",
      "[150 rows x 6 columns]\n"
     ]
    }
   ],
   "source": [
    "# 4. Standardize text\n",
    "# df[\"Name\"] = df[\"Name\"].str.lower()\n",
    "print(df)"
   ]
  },
  {
   "cell_type": "code",
   "execution_count": 70,
   "id": "54b0942b",
   "metadata": {},
   "outputs": [
    {
     "name": "stdout",
     "output_type": "stream",
     "text": [
      "           Name    Type1   Type2  Height  Weight  Legendary\n",
      "0     Bulbasaur    Grass  Poison     0.7     6.9      False\n",
      "1       Ivysaur    Grass  Poison     1.0    13.0      False\n",
      "2      Venusaur    Grass  Poison     2.0   100.0      False\n",
      "3    Charmander     Fire    None     0.6     8.5      False\n",
      "4    Charmeleon     Fire    None     1.1    19.0      False\n",
      "..          ...      ...     ...     ...     ...        ...\n",
      "145     Moltres     Fire  Flying     2.0    60.0       True\n",
      "146     Dratini   Dragon    None     1.8     3.3      False\n",
      "147   Dragonair   Dragon    None     4.0    16.5      False\n",
      "148   Dragonite   Dragon  Flying     2.2   210.0      False\n",
      "149      Mewtwo  Psychic    None     2.0   122.0       True\n",
      "\n",
      "[150 rows x 6 columns]\n"
     ]
    }
   ],
   "source": [
    "# 5. Fix data types\n",
    "df[\"Legendary\"] = df[\"Legendary\"].astype(bool)\n",
    "print(df)"
   ]
  },
  {
   "cell_type": "code",
   "execution_count": null,
   "id": "5e2025e5",
   "metadata": {},
   "outputs": [],
   "source": [
    "# 6. Remove duplicate values\n",
    "# i dont have duplicates so it wont remove any\n",
    "# df = df.drop_duplicates()\n",
    "# print(df)"
   ]
  }
 ],
 "metadata": {
  "kernelspec": {
   "display_name": "Python 3",
   "language": "python",
   "name": "python3"
  },
  "language_info": {
   "codemirror_mode": {
    "name": "ipython",
    "version": 3
   },
   "file_extension": ".py",
   "mimetype": "text/x-python",
   "name": "python",
   "nbconvert_exporter": "python",
   "pygments_lexer": "ipython3",
   "version": "3.13.7"
  }
 },
 "nbformat": 4,
 "nbformat_minor": 5
}
