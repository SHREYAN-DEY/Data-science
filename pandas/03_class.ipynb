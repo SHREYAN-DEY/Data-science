{
 "cells": [
  {
   "cell_type": "markdown",
   "id": "8dfe1e71",
   "metadata": {},
   "source": [
    "### Importing CSV and JSON files in pandas\n",
    "---\n",
    "CSV - Comma-separated values\n",
    "\n",
    "JSON - JavaScript Object Notation"
   ]
  },
  {
   "cell_type": "code",
   "execution_count": 1,
   "id": "b57e4d60",
   "metadata": {},
   "outputs": [],
   "source": [
    "import pandas as pd"
   ]
  },
  {
   "cell_type": "code",
   "execution_count": 16,
   "id": "5e6954d8",
   "metadata": {},
   "outputs": [
    {
     "name": "stdout",
     "output_type": "stream",
     "text": [
      "      No      Name     Type1   Type2  Height  Weight  Legendary\n",
      "143  144  Articuno       Ice  Flying     1.7    55.4          1\n",
      "144  145    Zapdos  Electric  Flying     1.6    52.6          1\n",
      "145  146   Moltres      Fire  Flying     2.0    60.0          1\n",
      "149  150    Mewtwo   Psychic     NaN     2.0   122.0          1\n"
     ]
    }
   ],
   "source": [
    "# Import the csv file\n",
    "df = pd.read_csv(\"../data/pokemon.csv\")\n",
    "legendaryPokemon = df.loc[df.Legendary == 1]\n",
    "print(legendaryPokemon)"
   ]
  }
 ],
 "metadata": {
  "kernelspec": {
   "display_name": "Python 3",
   "language": "python",
   "name": "python3"
  },
  "language_info": {
   "codemirror_mode": {
    "name": "ipython",
    "version": 3
   },
   "file_extension": ".py",
   "mimetype": "text/x-python",
   "name": "python",
   "nbconvert_exporter": "python",
   "pygments_lexer": "ipython3",
   "version": "3.13.7"
  }
 },
 "nbformat": 4,
 "nbformat_minor": 5
}
