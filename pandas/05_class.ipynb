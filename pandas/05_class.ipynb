{
 "cells": [
  {
   "cell_type": "markdown",
   "id": "b9299615",
   "metadata": {},
   "source": [
    "### Filtering of data in pandas -\n",
    "---\n",
    "Filtering - Keeping the rows that match a condition"
   ]
  },
  {
   "cell_type": "code",
   "execution_count": null,
   "id": "bf054c76",
   "metadata": {},
   "outputs": [],
   "source": [
    "import pandas as pd\n",
    "df = pd.read_csv(\"../data/pokemon.csv\")"
   ]
  }
 ],
 "metadata": {
  "language_info": {
   "name": "python"
  }
 },
 "nbformat": 4,
 "nbformat_minor": 5
}
