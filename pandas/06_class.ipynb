{
 "cells": [
  {
   "cell_type": "markdown",
   "id": "d0c5576d",
   "metadata": {},
   "source": [
    "### Aggregation Function -\n",
    "---\n",
    "Aggregation function - Reduces a set of values into a sigle summary value\n",
    "                       used to summarize and analyze data.\n",
    "                       Often used with groupby() function"
   ]
  },
  {
   "cell_type": "code",
   "execution_count": 2,
   "id": "1268c1ff",
   "metadata": {},
   "outputs": [],
   "source": [
    "import pandas as pd\n",
    "df = pd.read_csv(\"../data/pokemon.csv\")\n",
    "# print(df)"
   ]
  },
  {
   "cell_type": "markdown",
   "id": "c9c7ce28",
   "metadata": {},
   "source": [
    "Multiple column\n",
    "___"
   ]
  },
  {
   "cell_type": "code",
   "execution_count": 3,
   "id": "329f16a5",
   "metadata": {},
   "outputs": [
    {
     "name": "stdout",
     "output_type": "stream",
     "text": [
      "No           75.500000\n",
      "Height        1.200000\n",
      "Weight       46.231333\n",
      "Legendary     0.026667\n",
      "dtype: float64\n"
     ]
    }
   ],
   "source": [
    "# mean() aggregate function\n",
    "print(df.mean(numeric_only=True))"
   ]
  },
  {
   "cell_type": "code",
   "execution_count": 4,
   "id": "ff29a32b",
   "metadata": {},
   "outputs": [
    {
     "name": "stdout",
     "output_type": "stream",
     "text": [
      "No           11325.0\n",
      "Height         180.0\n",
      "Weight        6934.7\n",
      "Legendary        4.0\n",
      "dtype: float64\n"
     ]
    }
   ],
   "source": [
    "# sum() aggregate function\n",
    "print(df.sum(numeric_only=True))"
   ]
  },
  {
   "cell_type": "code",
   "execution_count": 5,
   "id": "759ac51a",
   "metadata": {},
   "outputs": [
    {
     "name": "stdout",
     "output_type": "stream",
     "text": [
      "No           1.0\n",
      "Height       0.2\n",
      "Weight       0.1\n",
      "Legendary    0.0\n",
      "dtype: float64\n"
     ]
    }
   ],
   "source": [
    "# min() aggregate function\n",
    "print(df.min(numeric_only=True))"
   ]
  },
  {
   "cell_type": "code",
   "execution_count": 6,
   "id": "71406e2c",
   "metadata": {},
   "outputs": [
    {
     "name": "stdout",
     "output_type": "stream",
     "text": [
      "No           150.0\n",
      "Height         8.8\n",
      "Weight       460.0\n",
      "Legendary      1.0\n",
      "dtype: float64\n"
     ]
    }
   ],
   "source": [
    "# max() aggregate function\n",
    "print(df.max(numeric_only=True))"
   ]
  },
  {
   "cell_type": "code",
   "execution_count": 7,
   "id": "7c2703a1",
   "metadata": {},
   "outputs": [
    {
     "name": "stdout",
     "output_type": "stream",
     "text": [
      "No           150\n",
      "Name         150\n",
      "Type1        150\n",
      "Type2         67\n",
      "Height       150\n",
      "Weight       150\n",
      "Legendary    150\n",
      "dtype: int64\n"
     ]
    }
   ],
   "source": [
    "# count() aggregate function\n",
    "print(df.count())"
   ]
  },
  {
   "cell_type": "markdown",
   "id": "9b728fce",
   "metadata": {},
   "source": [
    "Single column\n",
    "___"
   ]
  },
  {
   "cell_type": "code",
   "execution_count": 8,
   "id": "c69cbe72",
   "metadata": {},
   "outputs": [
    {
     "name": "stdout",
     "output_type": "stream",
     "text": [
      "1.2\n",
      "46.23133333333334\n",
      "0.02666666666666667\n"
     ]
    }
   ],
   "source": [
    "print(df[\"Height\"].mean())\n",
    "print(df[\"Weight\"].mean())\n",
    "print(df[\"Legendary\"].mean())"
   ]
  },
  {
   "cell_type": "code",
   "execution_count": 9,
   "id": "6310b6ec",
   "metadata": {},
   "outputs": [
    {
     "name": "stdout",
     "output_type": "stream",
     "text": [
      "180.0\n",
      "6934.700000000001\n",
      "4\n"
     ]
    }
   ],
   "source": [
    "print(df[\"Height\"].sum())\n",
    "print(df[\"Weight\"].sum())\n",
    "print(df[\"Legendary\"].sum())"
   ]
  },
  {
   "cell_type": "code",
   "execution_count": 10,
   "id": "35cfe9a4",
   "metadata": {},
   "outputs": [
    {
     "name": "stdout",
     "output_type": "stream",
     "text": [
      "0.2\n",
      "0.1\n",
      "0\n"
     ]
    }
   ],
   "source": [
    "print(df[\"Height\"].min())\n",
    "print(df[\"Weight\"].min())\n",
    "print(df[\"Legendary\"].min())"
   ]
  },
  {
   "cell_type": "code",
   "execution_count": 11,
   "id": "a0d40001",
   "metadata": {},
   "outputs": [
    {
     "name": "stdout",
     "output_type": "stream",
     "text": [
      "8.8\n",
      "460.0\n",
      "1\n"
     ]
    }
   ],
   "source": [
    "print(df[\"Height\"].max())\n",
    "print(df[\"Weight\"].max())\n",
    "print(df[\"Legendary\"].max())"
   ]
  },
  {
   "cell_type": "code",
   "execution_count": 12,
   "id": "56597f2c",
   "metadata": {},
   "outputs": [
    {
     "name": "stdout",
     "output_type": "stream",
     "text": [
      "150\n",
      "150\n",
      "150\n",
      "150\n",
      "67\n"
     ]
    }
   ],
   "source": [
    "print(df[\"Height\"].count())\n",
    "print(df[\"Weight\"].count())\n",
    "print(df[\"Legendary\"].count())\n",
    "print(df[\"Type1\"].count())\n",
    "print(df[\"Type2\"].count())"
   ]
  },
  {
   "cell_type": "code",
   "execution_count": 13,
   "id": "a3ad13bc",
   "metadata": {},
   "outputs": [
    {
     "name": "stdout",
     "output_type": "stream",
     "text": [
      "Type1\n",
      "Bug         0.900000\n",
      "Dragon      2.666667\n",
      "Electric    0.855556\n",
      "Fairy       0.950000\n",
      "Fighting    1.185714\n",
      "Fire        1.216667\n",
      "Ghost       1.466667\n",
      "Grass       1.083333\n",
      "Ground      0.850000\n",
      "Ice         1.550000\n",
      "Normal      0.986364\n",
      "Poison      1.221429\n",
      "Psychic     1.371429\n",
      "Rock        1.844444\n",
      "Water       1.300000\n",
      "Name: Height, dtype: float64\n"
     ]
    }
   ],
   "source": [
    "group = df.groupby(\"Type1\")\n",
    "\n",
    "# min of each type\n",
    "print(group[\"Height\"].mean())"
   ]
  },
  {
   "cell_type": "code",
   "execution_count": 14,
   "id": "25287297",
   "metadata": {},
   "outputs": [
    {
     "name": "stdout",
     "output_type": "stream",
     "text": [
      "Type1\n",
      "Bug         10.8\n",
      "Dragon       8.0\n",
      "Electric     7.7\n",
      "Fairy        1.9\n",
      "Fighting     8.3\n",
      "Fire        14.6\n",
      "Ghost        4.4\n",
      "Grass       13.0\n",
      "Ground       6.8\n",
      "Ice          3.1\n",
      "Normal      21.7\n",
      "Poison      17.1\n",
      "Psychic      9.6\n",
      "Rock        16.6\n",
      "Water       36.4\n",
      "Name: Height, dtype: float64\n"
     ]
    }
   ],
   "source": [
    "# sum of each type\n",
    "print(group[\"Height\"].sum())"
   ]
  },
  {
   "cell_type": "code",
   "execution_count": 15,
   "id": "ba2be7aa",
   "metadata": {},
   "outputs": [
    {
     "name": "stdout",
     "output_type": "stream",
     "text": [
      "Type1\n",
      "Bug         0.3\n",
      "Dragon      1.8\n",
      "Electric    0.3\n",
      "Fairy       0.6\n",
      "Fighting    0.5\n",
      "Fire        0.6\n",
      "Ghost       1.3\n",
      "Grass       0.4\n",
      "Ground      0.2\n",
      "Ice         1.4\n",
      "Normal      0.3\n",
      "Poison      0.4\n",
      "Psychic     0.9\n",
      "Rock        0.4\n",
      "Water       0.3\n",
      "Name: Height, dtype: float64\n"
     ]
    }
   ],
   "source": [
    "# min values of each type\n",
    "print(group[\"Height\"].min())"
   ]
  },
  {
   "cell_type": "code",
   "execution_count": 16,
   "id": "7a5ef4e9",
   "metadata": {},
   "outputs": [
    {
     "name": "stdout",
     "output_type": "stream",
     "text": [
      "Type1\n",
      "Bug         1.5\n",
      "Dragon      4.0\n",
      "Electric    1.6\n",
      "Fairy       1.3\n",
      "Fighting    1.6\n",
      "Fire        2.0\n",
      "Ghost       1.6\n",
      "Grass       2.0\n",
      "Ground      1.9\n",
      "Ice         1.7\n",
      "Normal      2.2\n",
      "Poison      3.5\n",
      "Psychic     2.0\n",
      "Rock        8.8\n",
      "Water       6.5\n",
      "Name: Height, dtype: float64\n"
     ]
    }
   ],
   "source": [
    "# max values of each type\n",
    "print(group[\"Height\"].max())"
   ]
  },
  {
   "cell_type": "code",
   "execution_count": null,
   "id": "68620d36",
   "metadata": {},
   "outputs": [
    {
     "name": "stdout",
     "output_type": "stream",
     "text": [
      "Type1\n",
      "Bug         12\n",
      "Dragon       3\n",
      "Electric     9\n",
      "Fairy        2\n",
      "Fighting     7\n",
      "Fire        12\n",
      "Ghost        3\n",
      "Grass       12\n",
      "Ground       8\n",
      "Ice          2\n",
      "Normal      22\n",
      "Poison      14\n",
      "Psychic      7\n",
      "Rock         9\n",
      "Water       28\n",
      "Name: Height, dtype: int64\n"
     ]
    }
   ],
   "source": [
    "# count of pokemon of each type\n",
    "print(group[\"Height\"].count())"
   ]
  }
 ],
 "metadata": {
  "kernelspec": {
   "display_name": "Python 3",
   "language": "python",
   "name": "python3"
  },
  "language_info": {
   "codemirror_mode": {
    "name": "ipython",
    "version": 3
   },
   "file_extension": ".py",
   "mimetype": "text/x-python",
   "name": "python",
   "nbconvert_exporter": "python",
   "pygments_lexer": "ipython3",
   "version": "3.13.7"
  }
 },
 "nbformat": 4,
 "nbformat_minor": 5
}
