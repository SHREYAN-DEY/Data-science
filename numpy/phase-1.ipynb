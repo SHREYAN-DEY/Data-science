{
 "cells": [
  {
   "cell_type": "markdown",
   "id": "8b9d8cd8",
   "metadata": {},
   "source": [
    "## Numpy array and basics\n",
    "learn about numpy self-study"
   ]
  },
  {
   "cell_type": "code",
   "execution_count": 3,
   "id": "4de66ae1",
   "metadata": {},
   "outputs": [],
   "source": [
    "import numpy as np"
   ]
  },
  {
   "cell_type": "markdown",
   "id": "c0de8a6e",
   "metadata": {},
   "source": [
    "### creating array from list"
   ]
  },
  {
   "cell_type": "code",
   "execution_count": 5,
   "id": "eac9f648",
   "metadata": {},
   "outputs": [
    {
     "name": "stdout",
     "output_type": "stream",
     "text": [
      "1d array :  [1 2 3 4 5]\n",
      "2d array :  [[1 2 3]\n",
      " [4 5 6]]\n"
     ]
    }
   ],
   "source": [
    "arr_1d = np.array([1,2,3,4,5])\n",
    "print(\"1d array : \", arr_1d)\n",
    "\n",
    "arr_2d = np.array([[1, 2, 3], [4, 5, 6]])\n",
    "print(\"2d array : \", arr_2d)"
   ]
  },
  {
   "cell_type": "markdown",
   "id": "6d158c11",
   "metadata": {},
   "source": [
    "### list vs numpy array"
   ]
  },
  {
   "cell_type": "markdown",
   "id": "c47847da",
   "metadata": {},
   "source": []
  }
 ],
 "metadata": {
  "kernelspec": {
   "display_name": ".venv",
   "language": "python",
   "name": "python3"
  },
  "language_info": {
   "codemirror_mode": {
    "name": "ipython",
    "version": 3
   },
   "file_extension": ".py",
   "mimetype": "text/x-python",
   "name": "python",
   "nbconvert_exporter": "python",
   "pygments_lexer": "ipython3",
   "version": "3.13.5"
  }
 },
 "nbformat": 4,
 "nbformat_minor": 5
}
