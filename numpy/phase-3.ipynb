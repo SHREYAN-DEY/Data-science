{
 "cells": [
  {
   "cell_type": "markdown",
   "id": "a5e19290",
   "metadata": {},
   "source": [
    "## Advance Operation with Buisness Example\n",
    "---"
   ]
  },
  {
   "cell_type": "code",
   "execution_count": 2,
   "id": "292b25b4",
   "metadata": {},
   "outputs": [],
   "source": [
    "import numpy as np\n",
    "import matplotlib.pyplot as plt"
   ]
  },
  {
   "cell_type": "code",
   "execution_count": 8,
   "id": "11d01363",
   "metadata": {},
   "outputs": [
    {
     "name": "stdout",
     "output_type": "stream",
     "text": [
      "==== Zomato sales analysis ====\n",
      "\n",
      " Sales data shape :  (5, 5)\n",
      "\n",
      " Sample data for 1st 3 resturant : \n",
      " [[     1 150000 180000 220000 250000]\n",
      " [     2 120000 140000 160000 190000]\n",
      " [     3 200000 230000 260000 300000]]\n"
     ]
    }
   ],
   "source": [
    "# Data structure: [resturant_id, 2021, 2022, 2023, 2024]\n",
    "sales_data = np.array([\n",
    "    [1, 150000, 180000, 220000, 250000],    # Paradise Biryani\n",
    "    [2, 120000, 140000, 160000, 190000],    # Beijing Bites\n",
    "    [3, 200000, 230000, 260000, 300000],    # Pizza Hub\n",
    "    [4, 180000, 210000, 240000, 270000],    # Burger Point\n",
    "    [5, 160000, 185000, 205000, 230000]     # Chai Point\n",
    "])\n",
    "\n",
    "\n",
    "print(\"==== Zomato sales analysis ====\")\n",
    "\n",
    "print(\"\\n Sales data shape : \", sales_data.shape)\n",
    "print(\"\\n Sample data for 1st 3 resturant : \\n\", sales_data[0:3])\n",
    "# print(\"\\n Sample data for 1st 3 resturant : \\n\", sales_data[: , 1:])"
   ]
  },
  {
   "cell_type": "markdown",
   "id": "17f5b077",
   "metadata": {},
   "source": [
    "### Total sales per year :-"
   ]
  },
  {
   "cell_type": "code",
   "execution_count": 13,
   "id": "183cbf0a",
   "metadata": {},
   "outputs": [
    {
     "name": "stdout",
     "output_type": "stream",
     "text": [
      "Yearly total sales :  [ 810000  945000 1085000 1240000]\n",
      "Minimum sales per resturent :  [150000 120000 200000 180000 160000]\n"
     ]
    }
   ],
   "source": [
    "# YEARLY TOTAL SALES CALCULATION\n",
    "# print(np.sum(sales_data, axis=0))\n",
    "yearly_total = np.sum(sales_data[: , 1:], axis=0)\n",
    "print(\"Yearly total sales : \", yearly_total)\n",
    "\n",
    "# MINIMUM SALES PER RESTURENT \n",
    "min_sales = np.min(sales_data[: , 1:], axis=1)\n",
    "print(\"Minimum sales per resturent : \", min_sales)"
   ]
  }
 ],
 "metadata": {
  "kernelspec": {
   "display_name": "Python 3",
   "language": "python",
   "name": "python3"
  },
  "language_info": {
   "codemirror_mode": {
    "name": "ipython",
    "version": 3
   },
   "file_extension": ".py",
   "mimetype": "text/x-python",
   "name": "python",
   "nbconvert_exporter": "python",
   "pygments_lexer": "ipython3",
   "version": "3.13.7"
  }
 },
 "nbformat": 4,
 "nbformat_minor": 5
}
