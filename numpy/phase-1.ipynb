{
 "cells": [
  {
   "cell_type": "markdown",
   "id": "8b9d8cd8",
   "metadata": {},
   "source": [
    "## Numpy array and basics\n",
    "---\n",
    "### learn about numpy self-study\n",
    "\n",
    "- First of all we have to initialize virtual environment\n",
    "- Then to install numpy we have to run \"pip install numpy\" in terminal\n",
    "\n",
    "- Now we are importing numpy "
   ]
  },
  {
   "cell_type": "code",
   "execution_count": 5,
   "id": "4de66ae1",
   "metadata": {},
   "outputs": [],
   "source": [
    "import numpy as np\n",
    "import time"
   ]
  },
  {
   "cell_type": "markdown",
   "id": "c0de8a6e",
   "metadata": {},
   "source": [
    "### Creating array(vector) with 'numpy'"
   ]
  },
  {
   "cell_type": "code",
   "execution_count": 6,
   "id": "eac9f648",
   "metadata": {},
   "outputs": [
    {
     "name": "stdout",
     "output_type": "stream",
     "text": [
      "1d array :  [1 2 3 4 5]\n",
      "2d array :  [[1 2 3]\n",
      " [4 5 6]]\n"
     ]
    }
   ],
   "source": [
    "arr_1d = np.array([1,2,3,4,5])\n",
    "print(\"1d array : \", arr_1d)\n",
    "\n",
    "arr_2d = np.array([[1, 2, 3], [4, 5, 6]])\n",
    "print(\"2d array : \", arr_2d)"
   ]
  },
  {
   "cell_type": "markdown",
   "id": "6d158c11",
   "metadata": {},
   "source": [
    "### list vs numpy array\n",
    "numpy array is superior to python list "
   ]
  },
  {
   "cell_type": "code",
   "execution_count": 6,
   "id": "c47847da",
   "metadata": {},
   "outputs": [
    {
     "name": "stdout",
     "output_type": "stream",
     "text": [
      "Python list multiplication  [1, 2, 3, 1, 2, 3]\n",
      "<class 'list'>\n",
      "Python array multiplication  [2 4 6]\n",
      "<class 'numpy.ndarray'>\n"
     ]
    }
   ],
   "source": [
    "py_list = [1, 2, 3]\n",
    "print(\"Python list multiplication \", py_list * 2)\n",
    "print(type(py_list))\n",
    "\n",
    "np_array = np.array([1,2,3])\n",
    "print(\"Python array multiplication \", np_array * 2)\n",
    "print(type(np_array))"
   ]
  },
  {
   "cell_type": "markdown",
   "id": "53946c59",
   "metadata": {},
   "source": [
    "### Regular python operation time VS numpy operation time"
   ]
  },
  {
   "cell_type": "code",
   "execution_count": 7,
   "id": "feccf928",
   "metadata": {},
   "outputs": [
    {
     "name": "stdout",
     "output_type": "stream",
     "text": [
      "regular list operation time = 5.494737386703491\n",
      "numpy list operation time = 0.4731876850128174\n"
     ]
    }
   ],
   "source": [
    "startTime = time.time()\n",
    "\n",
    "py_list = [i*2 for i in range(100000000)]\n",
    "\n",
    "endTime = time.time()\n",
    "print(f\"regular list operation time = {endTime - startTime}\")\n",
    "\n",
    "\n",
    "startTime = time.time()\n",
    "np_array = np.arange(100000000) * 2\n",
    "endTime = time.time()\n",
    "print(f\"numpy list operation time = {endTime - startTime}\")"
   ]
  },
  {
   "cell_type": "markdown",
   "id": "06f00028",
   "metadata": {},
   "source": [
    "### numpy multi dimentional array"
   ]
  },
  {
   "cell_type": "code",
   "execution_count": 12,
   "id": "3095ee71",
   "metadata": {},
   "outputs": [
    {
     "name": "stdout",
     "output_type": "stream",
     "text": [
      "dimentions of the array = 2\n",
      "dimentions of the array = 3\n",
      "[[[11 12 13]\n",
      "  [21 22 23]\n",
      "  [31 32 33]]\n",
      "\n",
      " [[11 12 13]\n",
      "  [21 22 23]\n",
      "  [31 32 33]]]\n"
     ]
    }
   ],
   "source": [
    "nparray2d = np.array([[11,12,13],\n",
    "                      [21,22,23],\n",
    "                      [31,32,33]])\n",
    "\n",
    "nparray3d = np.array([[[11,12,13], [21,22,23], [31,32,33]],\n",
    "                      [[11,12,13], [21,22,23], [31,32,33]]])\n",
    "\n",
    "print(f\"dimentions of the array = {nparray2d.ndim}\")\n",
    "print(f\"dimentions of the array = {nparray3d.ndim}\")\n",
    "\n",
    "# print(nparray2d)\n",
    "# print(nparray2d.shape)\n",
    "\n",
    "print(nparray3d)\n",
    "# print(nparray3d.shape)"
   ]
  },
  {
   "cell_type": "markdown",
   "id": "a6272a23",
   "metadata": {},
   "source": [
    "### Creating array from scratch"
   ]
  },
  {
   "cell_type": "code",
   "execution_count": 15,
   "id": "5d011ed3",
   "metadata": {},
   "outputs": [
    {
     "name": "stdout",
     "output_type": "stream",
     "text": [
      "zeros array : \n",
      " [[0. 0. 0. 0.]\n",
      " [0. 0. 0. 0.]\n",
      " [0. 0. 0. 0.]]\n",
      "ones array : \n",
      " [[1. 1. 1. 1.]\n",
      " [1. 1. 1. 1.]\n",
      " [1. 1. 1. 1.]]\n",
      "array of constant element : \n",
      " [[7 7 7 7]\n",
      " [7 7 7 7]\n",
      " [7 7 7 7]]\n",
      "random array :\n",
      " [[0.8044965  0.49032644 0.60570303 0.91956441]\n",
      " [0.41741888 0.61606357 0.29348143 0.05765634]\n",
      " [0.73119661 0.19967671 0.2851732  0.69710792]]\n",
      "sequence array :\n",
      " [0 2 4 6 8]\n"
     ]
    }
   ],
   "source": [
    "zeros = np.zeros((3, 4))  #it creates a metrics of 0s of 3 row 4 coloum ()-for tuple\n",
    "print(\"zeros array : \\n\",zeros)\n",
    "\n",
    "ones = np.ones((3, 4))  # its similar to above and  []for list,()for tuple\n",
    "print(\"ones array : \\n\",ones)\n",
    "\n",
    "fulls = np.full((3,4), 7)\n",
    "print(\"array of constant element : \\n\",fulls)\n",
    "\n",
    "randoms = np.random.random((3, 4))\n",
    "print(\"random array :\\n\",randoms)\n",
    "\n",
    "sequence = np.arange(0, 10, 2)\n",
    "print(\"sequence array :\\n\",sequence)"
   ]
  },
  {
   "cell_type": "markdown",
   "id": "0a674475",
   "metadata": {},
   "source": [
    "### Vector, Matrix and Tensor"
   ]
  },
  {
   "cell_type": "code",
   "execution_count": null,
   "id": "bab7d522",
   "metadata": {},
   "outputs": [
    {
     "name": "stdout",
     "output_type": "stream",
     "text": [
      "vector :\n",
      " [1 2 3 4]\n",
      "matrix :\n",
      " [[1 2 3]\n",
      " [4 5 6]\n",
      " [7 8 9]]\n",
      "tensor : \n",
      " [[[1 2]\n",
      "  [3 4]]\n",
      "\n",
      " [[5 6]\n",
      "  [7 8]]]\n"
     ]
    }
   ],
   "source": [
    "vector = np.array([1,2,3,4])\n",
    "print(\"vector :\\n\",vector)\n",
    "\n",
    "matrix = np.array([[1,2,3], #2d arrays are called matrix\n",
    "                   [4,5,6],\n",
    "                   [7,8,9]])\n",
    "print(\"matrix :\\n\",matrix)\n",
    "\n",
    "tensor = np.array([[[1,2],[3,4]],      #lager then 2d arrays are called tensor\n",
    "                   [[5,6],[7,8]]])\n",
    "print(\"tensor : \\n\",tensor)"
   ]
  },
  {
   "cell_type": "markdown",
   "id": "12f7f79c",
   "metadata": {},
   "source": [
    "### Array properties"
   ]
  },
  {
   "cell_type": "code",
   "execution_count": null,
   "id": "44162b7a",
   "metadata": {},
   "outputs": [
    {
     "name": "stdout",
     "output_type": "stream",
     "text": [
      "Shape : (2, 3)\n",
      "Dimention : 2\n",
      "Size : 6\n",
      "Datatype : int64\n"
     ]
    }
   ],
   "source": [
    "arr = np.array([[1,2,3],\n",
    "                [4,5,6]])\n",
    "print(\"Shape :\",arr.shape)\n",
    "print(\"Dimention :\",arr.ndim)\n",
    "print(\"Size :\",arr.size)\n",
    "print(\"Datatype :\",arr.dtype)"
   ]
  },
  {
   "cell_type": "markdown",
   "id": "dff9f7dc",
   "metadata": {},
   "source": [
    "### Array reshaping"
   ]
  },
  {
   "cell_type": "code",
   "execution_count": 19,
   "id": "80990590",
   "metadata": {},
   "outputs": [
    {
     "name": "stdout",
     "output_type": "stream",
     "text": [
      "Original array :  [ 0  1  2  3  4  5  6  7  8  9 10 11]\n",
      "Reshaped array : \n",
      " [[ 0  1  2  3]\n",
      " [ 4  5  6  7]\n",
      " [ 8  9 10 11]]\n",
      "Flattened array : [ 0  1  2  3  4  5  6  7  8  9 10 11]\n",
      "Raveled array :  [ 0  1  2  3  4  5  6  7  8  9 10 11]\n",
      "Transpose : \n",
      " [[ 0  4  8]\n",
      " [ 1  5  9]\n",
      " [ 2  6 10]\n",
      " [ 3  7 11]]\n",
      "Original array :  [ 0  1  2  3  4  5  6  7  8  9 10 11]\n"
     ]
    }
   ],
   "source": [
    "arr = np.arange(12)\n",
    "print(\"Original array : \",arr)\n",
    "\n",
    "reshaped = arr.reshape((3,4))\n",
    "print(\"Reshaped array : \\n\",reshaped)\n",
    "\n",
    "# flatten(returns copy, instade of view/original)\n",
    "flattened = reshaped.flatten()\n",
    "print(\"Flattened array :\",flattened)\n",
    "\n",
    "# ravel (return view/original, instead of copy)\n",
    "raveled = reshaped.ravel()\n",
    "print(\"Raveled array : \",raveled)\n",
    "\n",
    "# transpose\n",
    "transpose = reshaped.T\n",
    "print(\"Transpose : \\n\",transpose)\n",
    "\n",
    "print(\"Original array : \",arr)"
   ]
  }
 ],
 "metadata": {
  "kernelspec": {
   "display_name": "Python 3",
   "language": "python",
   "name": "python3"
  },
  "language_info": {
   "codemirror_mode": {
    "name": "ipython",
    "version": 3
   },
   "file_extension": ".py",
   "mimetype": "text/x-python",
   "name": "python",
   "nbconvert_exporter": "python",
   "pygments_lexer": "ipython3",
   "version": "3.13.7"
  }
 },
 "nbformat": 4,
 "nbformat_minor": 5
}
