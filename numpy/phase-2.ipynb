{
 "cells": [
  {
   "cell_type": "markdown",
   "id": "1c94e586",
   "metadata": {},
   "source": [
    "## Numpy Array Operations\n",
    "---"
   ]
  },
  {
   "cell_type": "code",
   "execution_count": 2,
   "id": "7b98eca7",
   "metadata": {},
   "outputs": [],
   "source": [
    "import numpy as np"
   ]
  },
  {
   "cell_type": "code",
   "execution_count": 3,
   "id": "a290267e",
   "metadata": {},
   "outputs": [
    {
     "name": "stdout",
     "output_type": "stream",
     "text": [
      "Basic Slicing :  [ 2  4  6  8 10]\n",
      "Negative indexing :  8\n"
     ]
    }
   ],
   "source": [
    "arr = np.array([1,2,3,4,5,6,7,8,9,10])\n",
    "\n",
    "print(\"Basic Slicing : \", arr[1:10:2])\n",
    "print(\"Negative indexing : \", arr[-3])"
   ]
  },
  {
   "cell_type": "code",
   "execution_count": 4,
   "id": "c3bc6d4e",
   "metadata": {},
   "outputs": [
    {
     "name": "stdout",
     "output_type": "stream",
     "text": [
      "Specific Element :  23\n",
      "Entire Row :  [21 22 23]\n",
      "Entire Row :  [13 23 33]\n"
     ]
    }
   ],
   "source": [
    "arr_2d = np.array([[11,12,13],\n",
    "                   [21,22,23],\n",
    "                   [31,32,33]])\n",
    "\n",
    "print(\"Specific Element : \", arr_2d[1,2])\n",
    "print(\"Entire Row : \", arr_2d[1])\n",
    "print(\"Entire Row : \", arr_2d[:,2])"
   ]
  },
  {
   "cell_type": "markdown",
   "id": "7bc012a1",
   "metadata": {},
   "source": [
    "## Sorting\n",
    "---"
   ]
  },
  {
   "cell_type": "code",
   "execution_count": 5,
   "id": "08488da6",
   "metadata": {},
   "outputs": [
    {
     "name": "stdout",
     "output_type": "stream",
     "text": [
      "sorted array :  [1 2 3 4 5 6 9]\n",
      "Sorted 2d array by column : \n",
      " [[2 1]\n",
      " [2 1]\n",
      " [3 3]]\n"
     ]
    }
   ],
   "source": [
    "unsorted = np.array([3,1,4,5,9,6,2])\n",
    "# REGULAR SORTING\n",
    "print(\"sorted array : \", np.sort(unsorted))\n",
    "\n",
    "# 2D ARRAY SORTING\n",
    "arr_2d_unsorted = np.array([[3,1],[2,1],[2,3]])\n",
    "print(\"Sorted 2d array by column : \\n\", np.sort(arr_2d_unsorted, axis=0))"
   ]
  },
  {
   "cell_type": "markdown",
   "id": "fee7ee01",
   "metadata": {},
   "source": [
    "## Filtering\n",
    "---"
   ]
  },
  {
   "cell_type": "code",
   "execution_count": 6,
   "id": "193a98a4",
   "metadata": {},
   "outputs": [
    {
     "name": "stdout",
     "output_type": "stream",
     "text": [
      "Unfiltered :  [ 0  1  2  3  4  5  6  7  8  9 10]\n",
      "Fintered :  [ 0  2  4  6  8 10]\n"
     ]
    }
   ],
   "source": [
    "nums = np.arange(11)\n",
    "print(\"Unfiltered : \", nums)\n",
    "\n",
    "even_nums = nums[nums % 2 == 0]\n",
    "print(\"Fintered : \", even_nums)"
   ]
  },
  {
   "cell_type": "markdown",
   "id": "eb2be233",
   "metadata": {},
   "source": [
    "## Filter with mask\n",
    "---\n",
    "mask stores the whole expression for evaluation "
   ]
  },
  {
   "cell_type": "code",
   "execution_count": 7,
   "id": "95f019b3",
   "metadata": {},
   "outputs": [
    {
     "name": "stdout",
     "output_type": "stream",
     "text": [
      "Number greater than 5 :  [ 6  7  8  9 10]\n"
     ]
    }
   ],
   "source": [
    "mask = nums > 5\n",
    "print(\"Number greater than 5 : \", nums[mask])"
   ]
  },
  {
   "cell_type": "markdown",
   "id": "d21e10a0",
   "metadata": {},
   "source": [
    "## Fancy indexing vs np.where()\n",
    "---"
   ]
  },
  {
   "cell_type": "code",
   "execution_count": 8,
   "id": "d48d64e6",
   "metadata": {},
   "outputs": [
    {
     "name": "stdout",
     "output_type": "stream",
     "text": [
      "[0 2 4]\n",
      "numpy where :  [ 6  7  8  9 10]\n"
     ]
    }
   ],
   "source": [
    "indices = [0, 2, 4]\n",
    "print(nums[indices])\n",
    "\n",
    "\n",
    "where_result = np.where(nums > 5)\n",
    "print(\"numpy where : \", nums[where_result])"
   ]
  },
  {
   "cell_type": "code",
   "execution_count": 10,
   "id": "09ffd0e4",
   "metadata": {},
   "outputs": [
    {
     "name": "stdout",
     "output_type": "stream",
     "text": [
      "[ 0  1  2  3  4  5 24 28 32 36 40]\n"
     ]
    }
   ],
   "source": [
    "condition_array = np.where(nums > 5, nums * 4, nums)\n",
    "print(condition_array)"
   ]
  },
  {
   "cell_type": "markdown",
   "id": "60aba8a6",
   "metadata": {},
   "source": [
    "## Adding and removing data\n",
    "---"
   ]
  },
  {
   "cell_type": "code",
   "execution_count": null,
   "id": "f57baa4a",
   "metadata": {},
   "outputs": [
    {
     "name": "stdout",
     "output_type": "stream",
     "text": [
      "[5 7 9]\n"
     ]
    }
   ],
   "source": [
    "arr1 = np.array([1,2,3])\n",
    "arr2 = np.array([4,5,6])\n",
    "\n",
    "# combined = arr1 + arr2    #dont do this\n",
    "combined = np.concatenate((arr1, arr2))\n",
    "print(combined)"
   ]
  }
 ],
 "metadata": {
  "kernelspec": {
   "display_name": "Python 3",
   "language": "python",
   "name": "python3"
  },
  "language_info": {
   "codemirror_mode": {
    "name": "ipython",
    "version": 3
   },
   "file_extension": ".py",
   "mimetype": "text/x-python",
   "name": "python",
   "nbconvert_exporter": "python",
   "pygments_lexer": "ipython3",
   "version": "3.13.7"
  }
 },
 "nbformat": 4,
 "nbformat_minor": 5
}
