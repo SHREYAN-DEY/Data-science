{
 "cells": [
  {
   "cell_type": "markdown",
   "id": "17238792",
   "metadata": {},
   "source": [
    "### Broadcasting in numpy"
   ]
  },
  {
   "cell_type": "code",
   "execution_count": 1,
   "id": "1db58c51",
   "metadata": {},
   "outputs": [],
   "source": [
    "import numpy as np\n",
    "import matplotlib.pyplot as plt"
   ]
  },
  {
   "cell_type": "code",
   "execution_count": 3,
   "id": "3cf756c3",
   "metadata": {},
   "outputs": [],
   "source": [
    "array1 = np.array([[1, 2, 3], [4, 5, 6]])\n",
    "array2 = np.random.rand(3, 3)\n",
    "array3 = np.zeros((4, 4))"
   ]
  },
  {
   "cell_type": "markdown",
   "id": "e7bae82d",
   "metadata": {},
   "source": [
    "### to save any data in a file(database)"
   ]
  },
  {
   "cell_type": "code",
   "execution_count": null,
   "id": "143c3c7b",
   "metadata": {},
   "outputs": [],
   "source": [
    "np.save('array1.npy', array1)\n",
    "np.save('array2.npy', array2)\n",
    "np.save('array3.npy', array3)"
   ]
  },
  {
   "cell_type": "markdown",
   "id": "20c9772b",
   "metadata": {},
   "source": [
    "### load the previously saved data "
   ]
  },
  {
   "cell_type": "code",
   "execution_count": 7,
   "id": "2a1761dd",
   "metadata": {},
   "outputs": [
    {
     "name": "stdout",
     "output_type": "stream",
     "text": [
      "Loaded array 1 from file : \n",
      " [[1 2 3]\n",
      " [4 5 6]]\n",
      "Loaded array 2 from file : \n",
      " [[0.17062302 0.76659268 0.8720801 ]\n",
      " [0.99290893 0.67508468 0.54838342]\n",
      " [0.72027541 0.6285481  0.27760734]]\n",
      "Loaded array 3 from file : \n",
      " [[0. 0. 0. 0.]\n",
      " [0. 0. 0. 0.]\n",
      " [0. 0. 0. 0.]\n",
      " [0. 0. 0. 0.]]\n"
     ]
    }
   ],
   "source": [
    "loaded_array1 = np.load('array1.npy')\n",
    "print(\"Loaded array 1 from file : \\n\", loaded_array1)\n",
    "loaded_array2 = np.load('array2.npy')\n",
    "print(\"Loaded array 2 from file : \\n\", loaded_array2)\n",
    "loaded_array3 = np.load('array3.npy')\n",
    "print(\"Loaded array 3 from file : \\n\", loaded_array3)"
   ]
  },
  {
   "cell_type": "code",
   "execution_count": 8,
   "id": "ada70622",
   "metadata": {},
   "outputs": [
    {
     "name": "stdout",
     "output_type": "stream",
     "text": [
      "Numpy logo file not found\n"
     ]
    }
   ],
   "source": [
    "# plot numpy logo\n",
    "try:\n",
    "    logo = np.load('numpy-logo.npy')\n",
    "    # Display\n",
    "    plt.figure(figsize=(10, 5))\n",
    "    plt.Subplot(121)\n",
    "    plt.imshow(logo)\n",
    "    plt.title(\"Numpy logo\")\n",
    "    plt.grid(False)\n",
    "    \n",
    "except FileNotFoundError:\n",
    "    print(\"Numpy logo file not found\")"
   ]
  }
 ],
 "metadata": {
  "kernelspec": {
   "display_name": "Python 3",
   "language": "python",
   "name": "python3"
  },
  "language_info": {
   "codemirror_mode": {
    "name": "ipython",
    "version": 3
   },
   "file_extension": ".py",
   "mimetype": "text/x-python",
   "name": "python",
   "nbconvert_exporter": "python",
   "pygments_lexer": "ipython3",
   "version": "3.13.7"
  }
 },
 "nbformat": 4,
 "nbformat_minor": 5
}
