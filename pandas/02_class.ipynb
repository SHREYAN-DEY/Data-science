{
 "cells": [
  {
   "cell_type": "markdown",
   "id": "e59921a9",
   "metadata": {},
   "source": [
    "### DataFrames -\n",
    "---\n",
    "DataFrames - A tabular data structure with  rows and columns (2-D)\n",
    "             Similar to an excel spreadsheet"
   ]
  },
  {
   "cell_type": "code",
   "execution_count": 8,
   "id": "4c9e9e94",
   "metadata": {},
   "outputs": [],
   "source": [
    "import pandas as pd"
   ]
  },
  {
   "cell_type": "code",
   "execution_count": 9,
   "id": "a10de0b2",
   "metadata": {},
   "outputs": [
    {
     "name": "stdout",
     "output_type": "stream",
     "text": [
      "            Name  Age\n",
      "Singer 1  Arijit   32\n",
      "Singer 2     K.K   52\n",
      "Singer 3   Rupam   45\n",
      "Singer 4  Anupam   40\n",
      "\n",
      " Name    Arijit\n",
      "Age         32\n",
      "Name: Singer 1, dtype: object\n",
      "\n",
      " Name    Arijit\n",
      "Age         32\n",
      "Name: Singer 1, dtype: object\n"
     ]
    }
   ],
   "source": [
    "data = {\"Name\" : [\"Arijit\", \"K.K\", \"Rupam\", \"Anupam\"],\n",
    "        \"Age\" : [32, 52, 45, 40]\n",
    "    }\n",
    "\n",
    "# Converting dictionary into dataframe\n",
    "df = pd.DataFrame(data, index=[\"Singer 1\", \"Singer 2\", \"Singer 3\", \"Singer 4\"])\n",
    "print(df)\n",
    "\n",
    "# To access a single row similar to series we can use loc[] property\n",
    "print(\"\\n\",df.loc[\"Singer 1\"])\n",
    "print(\"\\n\",df.iloc[0])"
   ]
  },
  {
   "cell_type": "code",
   "execution_count": 12,
   "id": "ebab598a",
   "metadata": {},
   "outputs": [
    {
     "name": "stdout",
     "output_type": "stream",
     "text": [
      "            Name  Age                    Typo\n",
      "Singer 1  Arijit   32  H&B modern & classical\n",
      "Singer 2     K.K   52         Classical hindi\n",
      "Singer 3   Rupam   45            Bengali rock\n",
      "Singer 4  Anupam   40          Modern Bengali\n"
     ]
    }
   ],
   "source": [
    "# Add a new column\n",
    "df[\"Typo\"] = [\"H&B modern & classical\", \"Classical hindi\", \"Bengali rock\", \"Modern Bengali\"]\n",
    "print(df)"
   ]
  },
  {
   "cell_type": "code",
   "execution_count": 21,
   "id": "b462150d",
   "metadata": {},
   "outputs": [
    {
     "name": "stdout",
     "output_type": "stream",
     "text": [
      "            Name  Age                    Typo\n",
      "Singer 1  Arijit   32  H&B modern & classical\n",
      "Singer 2     K.K   52         Classical hindi\n",
      "Singer 3   Rupam   45            Bengali rock\n",
      "Singer 4  Anupam   40          Modern Bengali\n",
      "Singer 5  Emiway   28                   Raper\n"
     ]
    }
   ],
   "source": [
    "# Add a new row\n",
    "newRow = pd.DataFrame([{\"Name\" : \"Emiway\",\n",
    "                        \"Age\" : 28,\n",
    "                        \"Typo\" : \"Raper\"}], index=[\"Singer 5\"])\n",
    "df = pd.concat([df, newRow])\n",
    "print(df)"
   ]
  }
 ],
 "metadata": {
  "kernelspec": {
   "display_name": "Python 3",
   "language": "python",
   "name": "python3"
  },
  "language_info": {
   "codemirror_mode": {
    "name": "ipython",
    "version": 3
   },
   "file_extension": ".py",
   "mimetype": "text/x-python",
   "name": "python",
   "nbconvert_exporter": "python",
   "pygments_lexer": "ipython3",
   "version": "3.13.7"
  }
 },
 "nbformat": 4,
 "nbformat_minor": 5
}
