{
 "cells": [
  {
   "cell_type": "markdown",
   "id": "8dfe1e71",
   "metadata": {},
   "source": [
    "### Importing CSV and JSON files in pandas\n",
    "---\n",
    "CSV - Comma-separated values\n",
    "\n",
    "JSON - JavaScript Object Notation"
   ]
  },
  {
   "cell_type": "code",
   "execution_count": 1,
   "id": "b57e4d60",
   "metadata": {},
   "outputs": [],
   "source": [
    "import pandas as pd"
   ]
  },
  {
   "cell_type": "code",
   "execution_count": null,
   "id": "5e6954d8",
   "metadata": {},
   "outputs": [],
   "source": [
    "# Import the csv file\n",
    "df = pd.read_csv(\"..\\data\\pokemon.csv\")"
   ]
  }
 ],
 "metadata": {
  "kernelspec": {
   "display_name": "Python 3",
   "language": "python",
   "name": "python3"
  },
  "language_info": {
   "codemirror_mode": {
    "name": "ipython",
    "version": 3
   },
   "file_extension": ".py",
   "mimetype": "text/x-python",
   "name": "python",
   "nbconvert_exporter": "python",
   "pygments_lexer": "ipython3",
   "version": "3.13.7"
  }
 },
 "nbformat": 4,
 "nbformat_minor": 5
}
