{
 "cells": [
  {
   "cell_type": "markdown",
   "id": "ee817c45",
   "metadata": {},
   "source": [
    "# Pandas \n",
    "---"
   ]
  },
  {
   "cell_type": "code",
   "execution_count": 8,
   "id": "045e7ee2",
   "metadata": {},
   "outputs": [
    {
     "name": "stdout",
     "output_type": "stream",
     "text": [
      "Pandas Version :  2.3.2\n"
     ]
    }
   ],
   "source": [
    "import pandas as pd\n",
    "\n",
    "# to see the current version of pandas\n",
    "print(\"Pandas Version : \", pd.__version__)"
   ]
  },
  {
   "cell_type": "markdown",
   "id": "621d1bea",
   "metadata": {},
   "source": [
    "### Datatypes in Pandas :\n",
    "---\n",
    "\n",
    "series - A Pandas 1-dimentional labeled array that can hold any data type\n",
    "         think of it like a single column in a spreadsheet(1-D)"
   ]
  },
  {
   "cell_type": "code",
   "execution_count": 9,
   "id": "fa70b2c2",
   "metadata": {},
   "outputs": [
    {
     "name": "stdout",
     "output_type": "stream",
     "text": [
      "0    100\n",
      "1    102\n",
      "2    104\n",
      "3    200\n",
      "4    300\n",
      "dtype: int64\n"
     ]
    }
   ],
   "source": [
    "data = [100, 102, 104, 200, 300]\n",
    "series = pd.Series(data)\n",
    "print(series)"
   ]
  },
  {
   "cell_type": "code",
   "execution_count": 10,
   "id": "f0629fd3",
   "metadata": {},
   "outputs": [
    {
     "name": "stdout",
     "output_type": "stream",
     "text": [
      "a    100\n",
      "b    102\n",
      "c    104\n",
      "d    200\n",
      "e    300\n",
      "dtype: int64\n"
     ]
    }
   ],
   "source": [
    "# passing index in pandas series\n",
    "# We can pass anything list, tuples, dictionaries, or numpy array\n",
    "series = pd.Series(data, index=[\"a\", \"b\", \"c\", \"d\", \"e\"])\n",
    "print(series)"
   ]
  },
  {
   "cell_type": "markdown",
   "id": "184a04e5",
   "metadata": {},
   "source": [
    "### loc[] - \n",
    "Access a value directly within a series we use loc[].\n",
    "loc[] means \"location by lable\"\n",
    "\n",
    "if there is a lable that doesnt exist then we get a \"keyerror\""
   ]
  },
  {
   "cell_type": "code",
   "execution_count": 11,
   "id": "29c6dc68",
   "metadata": {},
   "outputs": [
    {
     "name": "stdout",
     "output_type": "stream",
     "text": [
      "100\n"
     ]
    }
   ],
   "source": [
    "print(series.loc[\"a\"])"
   ]
  },
  {
   "cell_type": "code",
   "execution_count": 12,
   "id": "746ab661",
   "metadata": {},
   "outputs": [
    {
     "name": "stdout",
     "output_type": "stream",
     "text": [
      "100\n",
      "102\n",
      "104\n"
     ]
    }
   ],
   "source": [
    "print(series.iloc[0])\n",
    "print(series.iloc[1])\n",
    "print(series.iloc[2])"
   ]
  },
  {
   "cell_type": "code",
   "execution_count": 13,
   "id": "b90a1fa7",
   "metadata": {},
   "outputs": [
    {
     "name": "stdout",
     "output_type": "stream",
     "text": [
      "d    200\n",
      "e    300\n",
      "dtype: int64\n"
     ]
    }
   ],
   "source": [
    "print(series[series >= 200])"
   ]
  },
  {
   "cell_type": "markdown",
   "id": "2792c310",
   "metadata": {},
   "source": [
    "### Lets use a dictionary to give some example"
   ]
  }
 ],
 "metadata": {
  "kernelspec": {
   "display_name": "Python 3",
   "language": "python",
   "name": "python3"
  },
  "language_info": {
   "codemirror_mode": {
    "name": "ipython",
    "version": 3
   },
   "file_extension": ".py",
   "mimetype": "text/x-python",
   "name": "python",
   "nbconvert_exporter": "python",
   "pygments_lexer": "ipython3",
   "version": "3.13.7"
  }
 },
 "nbformat": 4,
 "nbformat_minor": 5
}
