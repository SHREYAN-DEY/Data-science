{
 "cells": [
  {
   "cell_type": "markdown",
   "id": "d0c5576d",
   "metadata": {},
   "source": [
    "### Aggregation Function -\n",
    "---\n",
    "Aggregation function - Reduces a set of values into a sigle summary value\n",
    "                       used to summarize and analyze data.\n",
    "                       Often used with groupby() function"
   ]
  },
  {
   "cell_type": "code",
   "execution_count": 2,
   "id": "1268c1ff",
   "metadata": {},
   "outputs": [],
   "source": [
    "import pandas as pd\n",
    "df = pd.read_csv(\"../data/pokemon.csv\")\n",
    "# print(df)"
   ]
  },
  {
   "cell_type": "markdown",
   "id": "c9c7ce28",
   "metadata": {},
   "source": [
    "Multiple column\n",
    "___"
   ]
  },
  {
   "cell_type": "code",
   "execution_count": 3,
   "id": "329f16a5",
   "metadata": {},
   "outputs": [
    {
     "name": "stdout",
     "output_type": "stream",
     "text": [
      "No           75.500000\n",
      "Height        1.200000\n",
      "Weight       46.231333\n",
      "Legendary     0.026667\n",
      "dtype: float64\n"
     ]
    }
   ],
   "source": [
    "# mean() aggregate function\n",
    "print(df.mean(numeric_only=True))"
   ]
  },
  {
   "cell_type": "code",
   "execution_count": 4,
   "id": "ff29a32b",
   "metadata": {},
   "outputs": [
    {
     "name": "stdout",
     "output_type": "stream",
     "text": [
      "No           11325.0\n",
      "Height         180.0\n",
      "Weight        6934.7\n",
      "Legendary        4.0\n",
      "dtype: float64\n"
     ]
    }
   ],
   "source": [
    "# sum() aggregate function\n",
    "print(df.sum(numeric_only=True))"
   ]
  },
  {
   "cell_type": "code",
   "execution_count": 5,
   "id": "759ac51a",
   "metadata": {},
   "outputs": [
    {
     "name": "stdout",
     "output_type": "stream",
     "text": [
      "No           1.0\n",
      "Height       0.2\n",
      "Weight       0.1\n",
      "Legendary    0.0\n",
      "dtype: float64\n"
     ]
    }
   ],
   "source": [
    "# min() aggregate function\n",
    "print(df.min(numeric_only=True))"
   ]
  },
  {
   "cell_type": "code",
   "execution_count": 6,
   "id": "71406e2c",
   "metadata": {},
   "outputs": [
    {
     "name": "stdout",
     "output_type": "stream",
     "text": [
      "No           150.0\n",
      "Height         8.8\n",
      "Weight       460.0\n",
      "Legendary      1.0\n",
      "dtype: float64\n"
     ]
    }
   ],
   "source": [
    "# max() aggregate function\n",
    "print(df.max(numeric_only=True))"
   ]
  },
  {
   "cell_type": "code",
   "execution_count": 7,
   "id": "7c2703a1",
   "metadata": {},
   "outputs": [
    {
     "name": "stdout",
     "output_type": "stream",
     "text": [
      "No           150\n",
      "Name         150\n",
      "Type1        150\n",
      "Type2         67\n",
      "Height       150\n",
      "Weight       150\n",
      "Legendary    150\n",
      "dtype: int64\n"
     ]
    }
   ],
   "source": [
    "# count() aggregate function\n",
    "print(df.count())"
   ]
  },
  {
   "cell_type": "markdown",
   "id": "9b728fce",
   "metadata": {},
   "source": [
    "Single column\n",
    "___"
   ]
  },
  {
   "cell_type": "code",
   "execution_count": 9,
   "id": "c69cbe72",
   "metadata": {},
   "outputs": [
    {
     "name": "stdout",
     "output_type": "stream",
     "text": [
      "1.2\n"
     ]
    }
   ],
   "source": [
    "print(df[\"Height\"].mean(numeric_only=True))"
   ]
  },
  {
   "cell_type": "code",
   "execution_count": 10,
   "id": "9c7924ea",
   "metadata": {},
   "outputs": [
    {
     "name": "stdout",
     "output_type": "stream",
     "text": [
      "46.23133333333334\n"
     ]
    }
   ],
   "source": [
    "print(df[\"Weight\"].mean(numeric_only=True))"
   ]
  },
  {
   "cell_type": "code",
   "execution_count": 11,
   "id": "b3d85d1c",
   "metadata": {},
   "outputs": [
    {
     "name": "stdout",
     "output_type": "stream",
     "text": [
      "0.02666666666666667\n"
     ]
    }
   ],
   "source": [
    "print(df[\"Legendary\"].mean(numeric_only=True))"
   ]
  }
 ],
 "metadata": {
  "kernelspec": {
   "display_name": "Python 3",
   "language": "python",
   "name": "python3"
  },
  "language_info": {
   "codemirror_mode": {
    "name": "ipython",
    "version": 3
   },
   "file_extension": ".py",
   "mimetype": "text/x-python",
   "name": "python",
   "nbconvert_exporter": "python",
   "pygments_lexer": "ipython3",
   "version": "3.13.7"
  }
 },
 "nbformat": 4,
 "nbformat_minor": 5
}
